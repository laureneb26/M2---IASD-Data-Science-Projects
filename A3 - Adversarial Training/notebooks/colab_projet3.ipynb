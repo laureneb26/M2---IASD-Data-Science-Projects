{
 "cells": [
  {
   "cell_type": "markdown",
   "metadata": {
    "id": "t6r0eIRJ6oQL"
   },
   "source": [
    "# **Project 3 : <u>Training robust neural networks</u>**"
   ]
  },
  {
   "cell_type": "code",
   "execution_count": null,
   "metadata": {
    "id": "2Q_aG_a4E4C5"
   },
   "outputs": [],
   "source": [
    "%cd /content/\n",
    "%rm -r /content/assignment3-alejandro-adnan-laurene/\n",
    "!pip install gitpython"
   ]
  },
  {
   "cell_type": "code",
   "execution_count": null,
   "metadata": {
    "id": "IzVPm6gD6hVI"
   },
   "outputs": [],
   "source": [
    "# changez \"pseudo\" par votre pseudo github & \"password\" par votre mot de passe\n",
    "pseudo = 'pseudo' #@param {type:\"string\"}\n",
    "password = 'mot de passe' #@param {type:\"string\"}\n",
    "from git import Repo\n",
    "Repo.clone_from ( \"https://\" + pseudo + \":\" + password + \"@github.com/Master-IASD/assignment3-alejandro-adnan-laurene.git\", \"/content/assignment3-alejandro-adnan-laurene/\" )\n",
    "%cd assignment3-alejandro-adnan-laurene/"
   ]
  },
  {
   "cell_type": "code",
   "execution_count": 46,
   "metadata": {
    "id": "VqUdAblb696U"
   },
   "outputs": [],
   "source": [
    "from data_loader import *\n",
    "from models import *\n",
    "from trainings import *\n",
    "from monitoring import *"
   ]
  },
  {
   "cell_type": "code",
   "execution_count": 47,
   "metadata": {
    "id": "-cT_gqJ8_BUW"
   },
   "outputs": [],
   "source": [
    "settings = { 'device' : 'cpu',\n",
    "             'dtype' : torch.float }"
   ]
  },
  {
   "cell_type": "code",
   "execution_count": null,
   "metadata": {
    "id": "W5sXdN0PA4KE"
   },
   "outputs": [],
   "source": [
    "cifar10_train = CIFAR10 ( True, settings )\n",
    "cifar10_test = CIFAR10 ( False, settings )"
   ]
  },
  {
   "cell_type": "code",
   "execution_count": 49,
   "metadata": {
    "id": "5lIinYPlA9Kf"
   },
   "outputs": [],
   "source": [
    "model = ConvNet ( ).to ( **settings )"
   ]
  },
  {
   "cell_type": "code",
   "execution_count": null,
   "metadata": {
    "id": "8G6Yz-MDBA34"
   },
   "outputs": [],
   "source": [
    "print ( \"L'accuracy du modèle est de {}.\".format ( fmt ( get_accuracy ( model, cifar10_test, max_n = 1000 ) ) ) )"
   ]
  },
  {
   "cell_type": "code",
   "execution_count": null,
   "metadata": {
    "id": "upR4lm2wBTIa"
   },
   "outputs": [],
   "source": [
    "# visiblement ça prends trop de temps alors rip, à tester en local ou sur GPU ?\n",
    "train_simple ( model, cifar10_train, batch_size = 10, epochs = 10, learning_rate = 1e-3, log_enabled = True )"
   ]
  },
  {
   "cell_type": "code",
   "execution_count": 33,
   "metadata": {
    "colab": {
     "base_uri": "https://localhost:8080/"
    },
    "id": "hviM2Sb0GuBp",
    "outputId": "25df3581-48a6-4169-93bc-129947994d30"
   },
   "outputs": [
    {
     "data": {
      "text/plain": [
       "<All keys matched successfully>"
      ]
     },
     "execution_count": 33,
     "metadata": {
      "tags": []
     },
     "output_type": "execute_result"
    }
   ],
   "source": [
    "# le modèle pré-entraîné disponible sur le github (il est améliorable)\n",
    "model.load_state_dict ( torch.load ( 'models/model_simple.pt', map_location = settings['device'] ) )"
   ]
  },
  {
   "cell_type": "code",
   "execution_count": 32,
   "metadata": {
    "colab": {
     "base_uri": "https://localhost:8080/"
    },
    "id": "RH5kYe-6HIxW",
    "outputId": "b9b6715f-d355-40cf-ba0c-6af94b9de521"
   },
   "outputs": [
    {
     "name": "stdout",
     "output_type": "stream",
     "text": [
      "L'accuracy du modèle est de 78.02%.\n"
     ]
    }
   ],
   "source": [
    "print ( \"L'accuracy du modèle est de {}.\".format ( fmt ( get_accuracy ( model, cifar10_test, max_n = 1000 ) ) ) )"
   ]
  }
 ],
 "metadata": {
  "colab": {
   "name": "Untitled1.ipynb",
   "provenance": []
  },
  "kernelspec": {
   "display_name": "Python 3",
   "language": "python",
   "name": "python3"
  },
  "language_info": {
   "codemirror_mode": {
    "name": "ipython",
    "version": 3
   },
   "file_extension": ".py",
   "mimetype": "text/x-python",
   "name": "python",
   "nbconvert_exporter": "python",
   "pygments_lexer": "ipython3",
   "version": "3.8.6"
  }
 },
 "nbformat": 4,
 "nbformat_minor": 1
}
