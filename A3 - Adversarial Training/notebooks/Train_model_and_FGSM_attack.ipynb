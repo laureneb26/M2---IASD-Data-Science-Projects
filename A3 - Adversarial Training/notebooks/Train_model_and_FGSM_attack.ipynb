{
 "cells": [
  {
   "cell_type": "markdown",
   "metadata": {},
   "source": [
    "## Imports"
   ]
  },
  {
   "cell_type": "code",
   "execution_count": 50,
   "metadata": {},
   "outputs": [],
   "source": [
    "import time\n",
    "\n",
    "import matplotlib.pyplot as plt\n",
    "import numpy as np\n",
    "import torch\n",
    "import torch.nn as nn\n",
    "import torch.nn.functional as F\n",
    "import torchvision\n",
    "import torchvision.transforms as transforms\n",
    "import torch.optim as optim"
   ]
  },
  {
   "cell_type": "code",
   "execution_count": 51,
   "metadata": {},
   "outputs": [],
   "source": [
    "device = 'cuda' if torch.cuda.is_available() else 'cpu'\n",
    "\n",
    "settings = {'device': device,\n",
    "            'dtype': torch.float}"
   ]
  },
  {
   "cell_type": "code",
   "execution_count": 52,
   "metadata": {},
   "outputs": [
    {
     "data": {
      "text/plain": [
       "'cpu'"
      ]
     },
     "execution_count": 52,
     "metadata": {},
     "output_type": "execute_result"
    }
   ],
   "source": [
    "device"
   ]
  },
  {
   "cell_type": "markdown",
   "metadata": {},
   "source": [
    "## Load Data"
   ]
  },
  {
   "cell_type": "code",
   "execution_count": 53,
   "metadata": {},
   "outputs": [],
   "source": [
    "BS = 64 #  Batch Size"
   ]
  },
  {
   "cell_type": "code",
   "execution_count": 54,
   "metadata": {},
   "outputs": [
    {
     "name": "stdout",
     "output_type": "stream",
     "text": [
      "Files already downloaded and verified\n",
      "Files already downloaded and verified\n"
     ]
    }
   ],
   "source": [
    "transform = transforms.Compose(\n",
    "    [transforms.ToTensor(),\n",
    "     transforms.Normalize([0., 0., 0.], [1., 1., 1.])])\n",
    "train_transform = transforms.Compose([\n",
    "    transforms.RandomHorizontalFlip(p=0.5),\n",
    "    transforms.RandomCrop(32, padding=4),\n",
    "    transforms.ToTensor(),\n",
    "    transforms.Normalize([0., 0., 0.], [1., 1., 1.])\n",
    "])\n",
    "\n",
    "trainset = torchvision.datasets.CIFAR10(root='./data', train=True,\n",
    "                                        download=True, transform=train_transform)\n",
    "\n",
    "trainloader = torch.utils.data.DataLoader(trainset, batch_size=BS,\n",
    "                                          shuffle=True, num_workers=4)\n",
    "testset = torchvision.datasets.CIFAR10(root='./data', train=False,\n",
    "                                       download=True, transform=transform)\n",
    "testloader = torch.utils.data.DataLoader(testset, batch_size=BS,\n",
    "                                         shuffle=False, num_workers=4)"
   ]
  },
  {
   "cell_type": "code",
   "execution_count": 55,
   "metadata": {},
   "outputs": [
    {
     "data": {
      "text/plain": [
       "['airplane',\n",
       " 'automobile',\n",
       " 'bird',\n",
       " 'cat',\n",
       " 'deer',\n",
       " 'dog',\n",
       " 'frog',\n",
       " 'horse',\n",
       " 'ship',\n",
       " 'truck']"
      ]
     },
     "execution_count": 55,
     "metadata": {},
     "output_type": "execute_result"
    }
   ],
   "source": [
    "trainset.classes"
   ]
  },
  {
   "cell_type": "markdown",
   "metadata": {},
   "source": [
    "## Model Definition"
   ]
  },
  {
   "cell_type": "markdown",
   "metadata": {},
   "source": [
    "Here I have changed some things:\n",
    "<ul>\n",
    "<li>add DropOut to prevent overfitting (yields a small improvement)</li>\n",
    "<li>apply Log Softmax to output</li>"
   ]
  },
  {
   "cell_type": "code",
   "execution_count": 56,
   "metadata": {},
   "outputs": [],
   "source": [
    "class ConvNet(torch.nn.Module):\n",
    "    def __init__(self):\n",
    "        super(ConvNet, self).__init__()\n",
    "        self.conv1 = nn.Conv2d(in_channels=3, out_channels=128,\n",
    "                               kernel_size=3, padding=2)\n",
    "        self.conv2 = nn.Conv2d(in_channels=128, out_channels=256,\n",
    "                               kernel_size=3, padding=2)\n",
    "        self.conv3 = nn.Conv2d(in_channels=256, out_channels=512,\n",
    "                               kernel_size=3, padding=2)\n",
    "\n",
    "        self.lin1 = nn.Linear(512 * 2 * 2, 1024)\n",
    "        self.lin2 = nn.Linear(1024, 10)\n",
    "        self.dropout1 = nn.Dropout(0.25)\n",
    "        self.dropout2 = nn.Dropout(0.5)\n",
    "\n",
    "    def forward(self, x):\n",
    "        x = self.conv1(x)\n",
    "        x = F.relu(x)\n",
    "        x = F.max_pool2d(x, 2)\n",
    "        x = self.conv2(x)\n",
    "        x = F.relu(x)\n",
    "        x = F.max_pool2d(x, 2)\n",
    "        x = self.dropout1(x)\n",
    "        x = self.conv3(x)\n",
    "        x = F.relu(x)\n",
    "        x = F.max_pool2d(x, 2)\n",
    "        x = F.avg_pool2d(x, 2)\n",
    "        x = x.view(-1, 512 * 2 * 2)\n",
    "        x = self.lin1(x)\n",
    "        x = F.relu(x)\n",
    "        x = self.dropout2(x)\n",
    "        x = self.lin2(x)\n",
    "        output = F.log_softmax(x, dim=1)\n",
    "        return output"
   ]
  },
  {
   "cell_type": "code",
   "execution_count": 57,
   "metadata": {},
   "outputs": [],
   "source": [
    "def train_model(model, optimizer, criterion, trainloader, testloader, device,\n",
    "                EPOCHS=100, verbose=True, check_validation=True):\n",
    "    print('Training')\n",
    "    t0 = time.perf_counter()\n",
    "    for epoch in range(EPOCHS):\n",
    "        model.train()\n",
    "        m_loss = 0.\n",
    "        for i, data in enumerate(trainloader, 0):\n",
    "            # get the inputs; data is a list of [inputs, labels]\n",
    "            inputs, labels = data\n",
    "            if device == 'cuda':\n",
    "                inputs = inputs.to(device)\n",
    "                labels = labels.to(device)\n",
    "            # zero the parameter gradients\n",
    "            optimizer.zero_grad()\n",
    "\n",
    "            # forward + backward + optimize\n",
    "            outputs = model(inputs)\n",
    "            loss = criterion(outputs, labels)\n",
    "            loss.backward()\n",
    "            optimizer.step()\n",
    "\n",
    "            m_loss += loss.detach().item()\n",
    "        scheduler.step()# UPDATES LEARNING RATE\n",
    "        if verbose:\n",
    "            print(f'\\nEpoch {epoch + 1}/{EPOCHS} ---> Loss: {m_loss / i:.5f} | Time per epoch {(time.perf_counter() - t0) / (epoch + 1):.2f}s | lr: {optimizer.param_groups[0][\"lr\"]:.6f}', end='')\n",
    "        if check_validation:# Runs predictions over the validation dataset to monitor accuracy\n",
    "            val_loss = 0.\n",
    "            val_correct = 0\n",
    "            model.eval()\n",
    "            with torch.no_grad():\n",
    "                for j, val_data in enumerate(testloader, 0):\n",
    "                    val_inputs, val_labels = val_data\n",
    "                    if device == 'cuda':\n",
    "                        val_inputs = val_inputs.to(device)\n",
    "                        val_labels = val_labels.to(device)\n",
    "\n",
    "                    val_outputs = model(val_inputs)\n",
    "                    val_pred_labs = val_outputs.argmax(dim=1)\n",
    "                    val_loss = criterion(val_outputs, val_labels)\n",
    "                    val_loss += val_loss.detach().item()\n",
    "                    val_correct += (val_labels == val_outputs.argmax(dim=1)).float().sum()\n",
    "            print(f' | val_loss: {val_loss / j:.5f} | val_acc: {val_correct / testset.data.shape[0]:.4f}', end='')\n",
    "        if epoch % 10 == 9:\n",
    "            print('\\n', end='')\n",
    "    print('\\nFinished Training')"
   ]
  },
  {
   "cell_type": "markdown",
   "metadata": {},
   "source": [
    "### Now we train if we don't find pretrained weights"
   ]
  },
  {
   "cell_type": "code",
   "execution_count": 58,
   "metadata": {},
   "outputs": [],
   "source": [
    "model = ConvNet()\n",
    "criterion = nn.NLLLoss()\n",
    "if device == 'cuda':\n",
    "    model.cuda()\n",
    "try:\n",
    "    model.load_state_dict(\n",
    "        torch.load(\n",
    "            '../models/model_state.pt',\n",
    "            map_location=torch.device(device)\n",
    "        )\n",
    "    )\n",
    "except Exception as e:\n",
    "    print(f\"Found exception: {e}\\nLet's train a new model!\")\n",
    "    EPOCHS = 100\n",
    "    optimizer = optim.SGD(model.parameters(), lr=0.1, momentum=0.9)\n",
    "    scheduler = optim.lr_scheduler.StepLR(optimizer, step_size=1,\n",
    "                                          gamma=0.95, last_epoch=-1)\n",
    "    # Train model\n",
    "    #train_model(model, optimizer, criterion, trainloader,\n",
    "    #            testloader, device, EPOCHS=EPOCHS)\n",
    "    #torch.save(model.state_dict(), './model_state.pth')"
   ]
  },
  {
   "cell_type": "markdown",
   "metadata": {},
   "source": [
    "## Let's perform a FGSM attack"
   ]
  },
  {
   "cell_type": "code",
   "execution_count": 59,
   "metadata": {},
   "outputs": [],
   "source": [
    "def fgsm_attack(x_original, epsilon, gradient):\n",
    "    # Get Gradient sign\n",
    "    grad_sign = gradient.sign()\n",
    "    # Add epsilon*grad_sign perturbation to the original input\n",
    "    x_perturbed = x_original + epsilon*grad_sign\n",
    "    return x_perturbed"
   ]
  },
  {
   "cell_type": "code",
   "execution_count": 60,
   "metadata": {},
   "outputs": [
    {
     "name": "stdout",
     "output_type": "stream",
     "text": [
      "\n",
      "FGSM Attack with epsilon = 0.50000 | Elapsed time: 1333.43 seconds.\n",
      "Accuracy: Before the attack -> 86.42%\t|\tAfter the attack -> 12.83%\n",
      "\n",
      "FGSM Attack with epsilon = 0.30000 | Elapsed time: 1174.49 seconds.\n",
      "Accuracy: Before the attack -> 86.42%\t|\tAfter the attack -> 14.16%\n",
      "\n",
      "FGSM Attack with epsilon = 0.10000 | Elapsed time: 1323.81 seconds.\n",
      "Accuracy: Before the attack -> 86.42%\t|\tAfter the attack -> 16.40%\n",
      "\n",
      "FGSM Attack with epsilon = 0.05000 | Elapsed time: 1309.87 seconds.\n",
      "Accuracy: Before the attack -> 86.42%\t|\tAfter the attack -> 16.29%\n",
      "\n",
      "FGSM Attack with epsilon = 0.01000 | Elapsed time: 1142.43 seconds.\n",
      "Accuracy: Before the attack -> 86.42%\t|\tAfter the attack -> 33.69%\n",
      "\n",
      "FGSM Attack with epsilon = 0.00100 | Elapsed time: 1243.97 seconds.\n",
      "Accuracy: Before the attack -> 86.42%\t|\tAfter the attack -> 79.66%\n"
     ]
    }
   ],
   "source": [
    "epsilons = torch.Tensor([0.5, 0.3, 0.1, 0.05, 0.01, 0.001])\n",
    "acc_results = dict()\n",
    "verbose = False\n",
    "N_VAL_SAMPLES = testset.data.shape[0]\n",
    "model.eval()\n",
    "for eps in epsilons:\n",
    "    perturbed_classification = np.empty((1, 1))\n",
    "    original_classification = np.empty((1, 1))\n",
    "    correct_unperturbed = 0\n",
    "    correct_perturbed = 0\n",
    "    t0 = time.perf_counter()\n",
    "    for j, val_data in enumerate(validation_loader, 0):\n",
    "        ### NOTE: IT WOULD BE MORE EFFICIENT TO ITERATE ONLY ONCE THROUGH THE DATA AND PERFORM ALL THE ATTACKS\n",
    "        x, y_target = val_data\n",
    "        x, y_target = x.to(device), y_target.to(device)\n",
    "        x.requires_grad = True\n",
    "        output = model(x)\n",
    "        # Store the predicted label\n",
    "        y_pred = torch.argmax(output)\n",
    "        if y_pred == y_target:#Only make attack on correctly classified samples\n",
    "            correct_unperturbed += 1\n",
    "            original_classification = np.concatenate([original_classification, y_pred.cpu().numpy().reshape(-1,1)], axis=1)\n",
    "            # Calculate loss and gradient\n",
    "            loss = criterion(output, y_target)\n",
    "            grad = torch.autograd.grad(outputs=loss, inputs=x)[0]\n",
    "            model.zero_grad()\n",
    "            perturbed_x = fgsm_attack(x, epsilon=eps, gradient=grad)\n",
    "            perturbed_output = model(perturbed_x)\n",
    "            y_pred_perturbed = torch.argmax(perturbed_output)\n",
    "            loss_perturbed = criterion(perturbed_output, y_target)\n",
    "            perturbed_classification = np.concatenate([perturbed_classification, y_pred_perturbed.cpu().numpy().reshape(-1,1)], axis=1)\n",
    "            if y_pred_perturbed == y_target:\n",
    "                correct_perturbed += 1\n",
    "    acc_before_attack = correct_unperturbed / N_VAL_SAMPLES\n",
    "    acc_after_attack = correct_perturbed / N_VAL_SAMPLES\n",
    "    print(f'\\nFGSM Attack with epsilon = {eps:.5f} | Elapsed time: {time.perf_counter() - t0:.2f} seconds.')\n",
    "    print(f'Accuracy: Before the attack -> {100 * acc_before_attack:.2f}%\\t|\\tAfter the attack -> {100 * acc_after_attack:.2f}%')\n",
    "    acc_results[eps.item()] = acc_after_attack\n",
    "acc_results[0] = acc_before_attack"
   ]
  },
  {
   "cell_type": "code",
   "execution_count": 61,
   "metadata": {},
   "outputs": [
    {
     "data": {
      "image/png": "[encoded data removed]",
      "text/plain": [
       "<Figure size 576x360 with 1 Axes>"
      ]
     },
     "metadata": {
      "needs_background": "light"
     },
     "output_type": "display_data"
    }
   ],
   "source": [
    "to_plot = [list(acc_results.keys()), list(acc_results.values())]\n",
    "plt.figure(figsize=(8, 5))\n",
    "plt.plot(to_plot[0], to_plot[1], '-ok')\n",
    "plt.title('Model accuracy after FGSM attack')\n",
    "plt.xlabel('Epsilon')\n",
    "plt.ylabel('Validation Accuracy')\n",
    "plt.show()"
   ]
  }
 ],
 "metadata": {
  "kernelspec": {
   "display_name": "Python 3",
   "language": "python",
   "name": "python3"
  }
 },
 "nbformat": 4,
 "nbformat_minor": 4
}
